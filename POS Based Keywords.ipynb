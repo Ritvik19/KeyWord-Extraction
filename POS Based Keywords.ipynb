{
 "cells": [
  {
   "cell_type": "markdown",
   "metadata": {},
   "source": [
    "# Libraries"
   ]
  },
  {
   "cell_type": "code",
   "execution_count": 1,
   "metadata": {
    "ExecuteTime": {
     "end_time": "2019-07-13T06:35:35.762823Z",
     "start_time": "2019-07-13T06:35:35.757839Z"
    }
   },
   "outputs": [],
   "source": [
    "import warnings\n",
    "warnings.filterwarnings(\"ignore\")"
   ]
  },
  {
   "cell_type": "code",
   "execution_count": 2,
   "metadata": {
    "ExecuteTime": {
     "end_time": "2019-07-13T06:35:40.713344Z",
     "start_time": "2019-07-13T06:35:35.770801Z"
    }
   },
   "outputs": [],
   "source": [
    "import numpy as np\n",
    "import pandas as pd\n",
    "import matplotlib.pyplot as plt"
   ]
  },
  {
   "cell_type": "code",
   "execution_count": 3,
   "metadata": {
    "ExecuteTime": {
     "end_time": "2019-07-13T06:35:40.721835Z",
     "start_time": "2019-07-13T06:35:40.716849Z"
    }
   },
   "outputs": [],
   "source": [
    "from math import ceil"
   ]
  },
  {
   "cell_type": "code",
   "execution_count": 4,
   "metadata": {
    "ExecuteTime": {
     "end_time": "2019-07-13T06:35:42.292480Z",
     "start_time": "2019-07-13T06:35:40.725824Z"
    }
   },
   "outputs": [],
   "source": [
    "import re\n",
    "from nltk.tokenize import sent_tokenize, word_tokenize\n",
    "from nltk import pos_tag\n",
    "from sklearn.feature_extraction.text import TfidfVectorizer\n",
    "from fuzzywuzzy import fuzz\n",
    "from scipy.sparse import coo_matrix"
   ]
  },
  {
   "cell_type": "code",
   "execution_count": 5,
   "metadata": {
    "ExecuteTime": {
     "end_time": "2019-07-13T06:35:42.319407Z",
     "start_time": "2019-07-13T06:35:42.296469Z"
    }
   },
   "outputs": [],
   "source": [
    "from tqdm import tqdm"
   ]
  },
  {
   "cell_type": "markdown",
   "metadata": {},
   "source": [
    "# Data"
   ]
  },
  {
   "cell_type": "code",
   "execution_count": 6,
   "metadata": {
    "ExecuteTime": {
     "end_time": "2019-07-13T06:35:42.667476Z",
     "start_time": "2019-07-13T06:35:42.321402Z"
    }
   },
   "outputs": [],
   "source": [
    "data = pd.read_csv('Womens Clothing E-Commerce Reviews.csv')"
   ]
  },
  {
   "cell_type": "code",
   "execution_count": 7,
   "metadata": {
    "ExecuteTime": {
     "end_time": "2019-07-13T06:35:42.701385Z",
     "start_time": "2019-07-13T06:35:42.669472Z"
    }
   },
   "outputs": [
    {
     "data": {
      "text/html": [
       "<div>\n",
       "<style scoped>\n",
       "    .dataframe tbody tr th:only-of-type {\n",
       "        vertical-align: middle;\n",
       "    }\n",
       "\n",
       "    .dataframe tbody tr th {\n",
       "        vertical-align: top;\n",
       "    }\n",
       "\n",
       "    .dataframe thead th {\n",
       "        text-align: right;\n",
       "    }\n",
       "</style>\n",
       "<table border=\"1\" class=\"dataframe\">\n",
       "  <thead>\n",
       "    <tr style=\"text-align: right;\">\n",
       "      <th></th>\n",
       "      <th>Review Text</th>\n",
       "      <th>Rating</th>\n",
       "    </tr>\n",
       "  </thead>\n",
       "  <tbody>\n",
       "    <tr>\n",
       "      <th>0</th>\n",
       "      <td>Absolutely wonderful - silky and sexy and comf...</td>\n",
       "      <td>4</td>\n",
       "    </tr>\n",
       "    <tr>\n",
       "      <th>1</th>\n",
       "      <td>Love this dress!  it's sooo pretty.  i happene...</td>\n",
       "      <td>5</td>\n",
       "    </tr>\n",
       "    <tr>\n",
       "      <th>2</th>\n",
       "      <td>I had such high hopes for this dress and reall...</td>\n",
       "      <td>3</td>\n",
       "    </tr>\n",
       "    <tr>\n",
       "      <th>3</th>\n",
       "      <td>I love, love, love this jumpsuit. it's fun, fl...</td>\n",
       "      <td>5</td>\n",
       "    </tr>\n",
       "    <tr>\n",
       "      <th>4</th>\n",
       "      <td>This shirt is very flattering to all due to th...</td>\n",
       "      <td>5</td>\n",
       "    </tr>\n",
       "  </tbody>\n",
       "</table>\n",
       "</div>"
      ],
      "text/plain": [
       "                                         Review Text  Rating\n",
       "0  Absolutely wonderful - silky and sexy and comf...       4\n",
       "1  Love this dress!  it's sooo pretty.  i happene...       5\n",
       "2  I had such high hopes for this dress and reall...       3\n",
       "3  I love, love, love this jumpsuit. it's fun, fl...       5\n",
       "4  This shirt is very flattering to all due to th...       5"
      ]
     },
     "execution_count": 7,
     "metadata": {},
     "output_type": "execute_result"
    }
   ],
   "source": [
    "data.head()"
   ]
  },
  {
   "cell_type": "markdown",
   "metadata": {},
   "source": [
    "# EDA"
   ]
  },
  {
   "cell_type": "code",
   "execution_count": 8,
   "metadata": {
    "ExecuteTime": {
     "end_time": "2019-07-13T06:35:42.868937Z",
     "start_time": "2019-07-13T06:35:42.704378Z"
    }
   },
   "outputs": [],
   "source": [
    "REVIEW = 'Review Text'\n",
    "CLASS = 'Rating'"
   ]
  },
  {
   "cell_type": "markdown",
   "metadata": {},
   "source": [
    "**Stopwords** \n",
    "```\n",
    "Add more stopwords to the list after EDA, words common to all rating classes\n",
    "```"
   ]
  },
  {
   "cell_type": "code",
   "execution_count": 9,
   "metadata": {
    "ExecuteTime": {
     "end_time": "2019-07-13T06:35:43.006079Z",
     "start_time": "2019-07-13T06:35:42.872926Z"
    }
   },
   "outputs": [],
   "source": [
    "with open('stopwords.txt') as f:\n",
    "    stopwords_ = f.readlines()"
   ]
  },
  {
   "cell_type": "code",
   "execution_count": null,
   "metadata": {
    "ExecuteTime": {
     "start_time": "2019-07-13T06:35:35.802Z"
    }
   },
   "outputs": [],
   "source": [
    "stopwords = (set(map(lambda x: x.strip(), stopwords_))-set(['neither', 'no', 'not', 'nor', 'none', 'never']))|set(['.', \n",
    "            'dress', 'not', 'like', 'size', 'fabric', 'fit'])"
   ]
  },
  {
   "cell_type": "code",
   "execution_count": null,
   "metadata": {
    "ExecuteTime": {
     "start_time": "2019-07-13T06:35:35.806Z"
    }
   },
   "outputs": [
    {
     "name": "stdout",
     "output_type": "stream",
     "text": [
      "['.', 'a', 'about', 'above', 'across', 'after', 'afterwards', 'again', 'against', 'ain', 'all', 'almost', 'alone', 'along', 'already', 'also', 'although', 'always', 'am', 'among', 'amongst', 'amoungst', 'amount', 'an', 'and', 'another', 'any', 'anyhow', 'anyone', 'anything', 'anyway', 'anywhere', 'are', 'aren', \"aren't\", 'around', 'as', 'at', 'back', 'be', 'became', 'because', 'become', 'becomes', 'becoming', 'been', 'before', 'beforehand', 'behind', 'being', 'below', 'beside', 'besides', 'between', 'beyond', 'bill', 'both', 'bottom', 'but', 'by', 'call', 'can', 'cannot', 'cant', 'co', 'computer', 'con', 'could', 'couldn', \"couldn't\", 'couldnt', 'cry', 'd', 'de', 'describe', 'detail', 'did', 'didn', \"didn't\", 'do', 'does', 'doesn', \"doesn't\", 'doing', 'don', \"don't\", 'done', 'down', 'dress', 'due', 'during', 'each', 'eg', 'eight', 'either', 'eleven', 'else', 'elsewhere', 'empty', 'enough', 'etc', 'even', 'ever', 'every', 'everyone', 'everything', 'everywhere', 'except', 'fabric', 'few', 'fifteen', 'fify', 'fill', 'find', 'fire', 'first', 'fit', 'five', 'for', 'former', 'formerly', 'forty', 'found', 'four', 'from', 'front', 'full', 'further', 'get', 'give', 'go', 'had', 'hadn', \"hadn't\", 'has', 'hasn', \"hasn't\", 'hasnt', 'have', 'haven', \"haven't\", 'having', 'he', 'hence', 'her', 'here', 'hereafter', 'hereby', 'herein', 'hereupon', 'hers', 'herse\"', 'herself', 'him', 'himse\"', 'himself', 'his', 'how', 'however', 'hundred', 'i', 'ie', 'if', 'in', 'inc', 'indeed', 'interest', 'into', 'is', 'isn', \"isn't\", 'it', \"it's\", 'its', 'itse\"', 'itself', 'just', 'keep', 'last', 'latter', 'latterly', 'least', 'less', 'like', 'll', 'ltd', 'm', 'ma', 'made', 'many', 'may', 'me', 'meanwhile', 'might', 'mightn', \"mightn't\", 'mill', 'mine', 'more', 'moreover', 'most', 'mostly', 'move', 'much', 'must', 'mustn', \"mustn't\", 'my', 'myse\"', 'myself', 'name', 'namely', 'needn', \"needn't\", 'nevertheless', 'next', 'nine', 'nobody', 'noone', 'not', 'nothing', 'now', 'nowhere', 'o', 'of', 'off', 'often', 'on', 'once', 'one', 'only', 'onto', 'or', 'other', 'others', 'otherwise', 'our', 'ours', 'ourselves', 'out', 'over', 'own', 'part', 'per', 'perhaps', 'please', 'put', 'rather', 're', 's', 'same', 'see', 'seem', 'seemed', 'seeming', 'seems', 'serious', 'several', 'shan', \"shan't\", 'she', \"she's\", 'should', \"should've\", 'shouldn', \"shouldn't\", 'show', 'side', 'since', 'sincere', 'six', 'sixty', 'size', 'so', 'some', 'somehow', 'someone', 'something', 'sometime', 'sometimes', 'somewhere', 'still', 'such', 'system', 't', 'take', 'ten', 'than', 'that', \"that'll\", 'the', 'their', 'theirs', 'them', 'themselves', 'then', 'thence', 'there', 'thereafter', 'thereby', 'therefore', 'therein', 'thereupon', 'these', 'they', 'thick', 'thin', 'third', 'this', 'those', 'though', 'three', 'through', 'throughout', 'thru', 'thus', 'to', 'together', 'too', 'top', 'toward', 'towards', 'twelve', 'twenty', 'two', 'un', 'under', 'until', 'up', 'upon', 'us', 've', 'very', 'via', 'was', 'wasn', \"wasn't\", 'we', 'well', 'were', 'weren', \"weren't\", 'what', 'whatever', 'when', 'whence', 'whenever', 'where', 'whereafter', 'whereas', 'whereby', 'wherein', 'whereupon', 'wherever', 'whether', 'which', 'while', 'whither', 'who', 'whoever', 'whole', 'whom', 'whose', 'why', 'will', 'with', 'within', 'without', 'won', \"won't\", 'would', 'wouldn', \"wouldn't\", 'y', 'yet', 'you', \"you'd\", \"you'll\", \"you're\", \"you've\", 'your', 'yours', 'yourself', 'yourselves']\n"
     ]
    }
   ],
   "source": [
    "print(sorted(stopwords))"
   ]
  },
  {
   "cell_type": "markdown",
   "metadata": {},
   "source": [
    "**Cleaning**"
   ]
  },
  {
   "cell_type": "code",
   "execution_count": null,
   "metadata": {
    "ExecuteTime": {
     "start_time": "2019-07-13T06:35:35.811Z"
    }
   },
   "outputs": [],
   "source": [
    "def remove_stop_words(X):\n",
    "    features = []\n",
    "    for x in X.split():\n",
    "        if x.lower() not in stopwords:\n",
    "            features.append(x.lower())\n",
    "    return ' '.join(features)"
   ]
  },
  {
   "cell_type": "code",
   "execution_count": null,
   "metadata": {
    "ExecuteTime": {
     "start_time": "2019-07-13T06:35:35.816Z"
    }
   },
   "outputs": [],
   "source": [
    "data[REVIEW] = data[REVIEW].apply(lambda x : re.sub(r'\\.', ' . ', str(x)))\n",
    "data[REVIEW] = data[REVIEW].apply(lambda x : re.sub(r'\\s+', ' ', str(x)))"
   ]
  },
  {
   "cell_type": "code",
   "execution_count": null,
   "metadata": {
    "ExecuteTime": {
     "start_time": "2019-07-13T06:35:35.820Z"
    }
   },
   "outputs": [],
   "source": [
    "reviews = data[REVIEW].apply(lambda x : re.sub(r'\\W', ' ', str(x)))\n",
    "reviews = reviews.apply(lambda x : re.sub(r'\\d', ' ', str(x)))\n",
    "reviews = reviews.apply(lambda x : re.sub(r'\\.', ' . ', str(x)))\n",
    "reviews = reviews.apply(lambda x : re.sub(r'\\s+', ' ', str(x)))\n",
    "reviews = reviews.apply(lambda x : x.strip())\n",
    "reviews = reviews.apply(remove_stop_words)"
   ]
  },
  {
   "cell_type": "code",
   "execution_count": null,
   "metadata": {
    "ExecuteTime": {
     "start_time": "2019-07-13T06:35:35.824Z"
    },
    "scrolled": false
   },
   "outputs": [
    {
     "data": {
      "image/png": "[encoded data removed]",
      "text/plain": [
       "<Figure size 1296x1512 with 6 Axes>"
      ]
     },
     "metadata": {
      "needs_background": "light"
     },
     "output_type": "display_data"
    }
   ],
   "source": [
    "classes = sorted(data[CLASS].unique())\n",
    "fig, ax = plt.subplots(figsize=(18,int(7*ceil(len(classes)/2))), nrows=ceil(len(classes)/2), ncols=2)\n",
    "for i, c in enumerate(classes):\n",
    "    pd.Series(' '.join(reviews[data[CLASS]==c]).lower().split()).value_counts()[:20].plot.bar(ax = ax[i//2][i%2])\n",
    "    ax[i//2][i%2].set_title(f'Most Frequent Words in class {c} Reviews')"
   ]
  },
  {
   "cell_type": "markdown",
   "metadata": {},
   "source": [
    "# Insights"
   ]
  },
  {
   "cell_type": "code",
   "execution_count": null,
   "metadata": {
    "ExecuteTime": {
     "start_time": "2019-07-13T06:35:35.828Z"
    }
   },
   "outputs": [],
   "source": [
    "def reduce_pos(x):\n",
    "    tags = pos_tag(word_tokenize(x.lower()))\n",
    "    words = []\n",
    "    for t in tags:\n",
    "        if t[1] in ['FW', 'JJ', 'JJR', 'JJS', 'NN', 'NNS', 'NNP', 'NNPS', 'RB', 'RBR', 'RBS']:\n",
    "            words.append(t[0])\n",
    "    return ' '.join(words)\n",
    "\n",
    "def indices_for_rating(rating):\n",
    "    indices = []\n",
    "    for i in range(len(reviews)):\n",
    "        if data.iloc[i][CLASS]==rating:\n",
    "            indices.append(i)\n",
    "    return indices\n",
    "\n",
    "def check_duplicacy(keyword, results):\n",
    "    fuzz_sim = 0\n",
    "    for k in results:\n",
    "        fuzz_sim = max(fuzz.token_set_ratio(k, keyword), fuzz_sim)\n",
    "    return 1 if fuzz_sim >= 80 else 0\n",
    "\n",
    "def sort_coo(coo_matrix):\n",
    "    tuples = zip(coo_matrix.col, coo_matrix.data)\n",
    "    return sorted(tuples, key=lambda x: (x[1], x[0]), reverse=True)\n",
    " \n",
    "def extract_topn_from_vector(feature_names, sorted_items, topn=3):\n",
    "    score_vals = []\n",
    "    feature_vals = []\n",
    "    \n",
    "    for idx, score in sorted_items:\n",
    "        score_vals.append(round(score, 3))\n",
    "        feature_vals.append(feature_names[idx])\n",
    "        \n",
    "    results= []\n",
    "    for idx in range(len(feature_vals)):\n",
    "        if check_duplicacy(feature_vals[idx], results) == 0:\n",
    "            results.append(feature_vals[idx])\n",
    "        if len(results) == topn:\n",
    "            break\n",
    "    \n",
    "    return results\n",
    "\n",
    "def extract_keywords(index, k, vectorizer):\n",
    "    feature_names=vectorizer.get_feature_names()\n",
    "    doc=reviews[index]\n",
    "    tf_idf_vector=vectorizer.transform([doc])\n",
    "    sorted_items=sort_coo(tf_idf_vector.tocoo())\n",
    "    keywords=extract_topn_from_vector(feature_names,sorted_items,k)\n",
    "    return keywords\n",
    "\n",
    "flatten = lambda l: [item for sublist in l for item in sublist]"
   ]
  },
  {
   "cell_type": "code",
   "execution_count": null,
   "metadata": {
    "ExecuteTime": {
     "start_time": "2019-07-13T06:35:35.833Z"
    }
   },
   "outputs": [],
   "source": [
    "def pos_kws(query):\n",
    "    keywords = []\n",
    "    indices = indices_for_rating(query)\n",
    "    for i in tqdm(indices):\n",
    "        keywords += extract_keywords(i, 3, vectorizer)\n",
    "\n",
    "    kws = flatten(list(map(lambda x : x.split(), keywords)))\n",
    "    kws= pd.Series(kws).value_counts().index.tolist()\n",
    "    kws = [k for k in kws if k not in ['neither', 'no', 'not', 'nor', 'none', 'never']]\n",
    "    kws = kws[:25]\n",
    "\n",
    "    return kws"
   ]
  },
  {
   "cell_type": "code",
   "execution_count": null,
   "metadata": {
    "ExecuteTime": {
     "start_time": "2019-07-13T06:35:35.837Z"
    }
   },
   "outputs": [
    {
     "data": {
      "text/plain": [
       "TfidfVectorizer(analyzer='word', binary=False, decode_error='strict',\n",
       "        dtype=<class 'numpy.float64'>, encoding='utf-8', input='content',\n",
       "        lowercase=True, max_df=1.0, max_features=None, min_df=1,\n",
       "        ngram_range=(1, 2), norm='l2', preprocessor=None, smooth_idf=True,\n",
       "        stop_words=None, strip_accents=None, sublinear_tf=False,\n",
       "        token_pattern='(?u)\\\\b\\\\w\\\\w+\\\\b', tokenizer=None, use_idf=True,\n",
       "        vocabulary=None)"
      ]
     },
     "execution_count": 18,
     "metadata": {},
     "output_type": "execute_result"
    }
   ],
   "source": [
    "reduced_reviews = reviews.apply(reduce_pos)\n",
    "vectorizer = TfidfVectorizer(ngram_range=(1,2))\n",
    "vectorizer.fit(reduced_reviews)"
   ]
  },
  {
   "cell_type": "code",
   "execution_count": null,
   "metadata": {
    "ExecuteTime": {
     "start_time": "2019-07-13T06:35:35.841Z"
    }
   },
   "outputs": [],
   "source": [
    "droplist = stopwords|set(['wanted', 'xs', 'liked', 'love', 'look', 'summer'])  #update this list based the results obtained below"
   ]
  },
  {
   "cell_type": "code",
   "execution_count": null,
   "metadata": {
    "ExecuteTime": {
     "start_time": "2019-07-13T06:35:35.845Z"
    }
   },
   "outputs": [
    {
     "name": "stderr",
     "output_type": "stream",
     "text": [
      "100%|████████████████████████████████████████████████████████████████████████████████| 842/842 [04:08<00:00,  3.71it/s]\n"
     ]
    },
    {
     "name": "stdout",
     "output_type": "stream",
     "text": [
      "['shirt', 'looks', 'material', 'small', 'looked', 'way', 'disappointed', 'sweater', 'wear', 'look', 'wide', 'cute', 'tried', 'wrong', 'huge', 'retailer', 'short', 'tight', 'design', 'nan', 'cheap', 'white', 'really', 'terrible', 'skirt']\n"
     ]
    }
   ],
   "source": [
    "print(pos_kws(1))"
   ]
  },
  {
   "cell_type": "code",
   "execution_count": null,
   "metadata": {
    "ExecuteTime": {
     "start_time": "2019-07-13T06:35:35.848Z"
    }
   },
   "outputs": [
    {
     "name": "stderr",
     "output_type": "stream",
     "text": [
      "100%|██████████████████████████████████████████████████████████████████████████████| 1565/1565 [07:16<00:00,  3.36it/s]\n"
     ]
    },
    {
     "name": "stdout",
     "output_type": "stream",
     "text": [
      "['shirt', 'way', 'small', 'work', 'unfortunately', 'look', 'material', 'sweater', 'ordered', 'waist', 'return', 'looked', 'wear', 'tried', 'looks', 'cut', 'huge', 'unflattering', 'large', 'short', 'really', 'wanted', 'wide', 'love', 'thought']\n"
     ]
    }
   ],
   "source": [
    "print(pos_kws(2))"
   ]
  },
  {
   "cell_type": "code",
   "execution_count": null,
   "metadata": {
    "ExecuteTime": {
     "start_time": "2019-07-13T06:35:35.852Z"
    }
   },
   "outputs": [
    {
     "name": "stderr",
     "output_type": "stream",
     "text": [
      "100%|██████████████████████████████████████████████████████████████████████████████| 2871/2871 [14:51<00:00,  3.07it/s]\n"
     ]
    },
    {
     "name": "stdout",
     "output_type": "stream",
     "text": [
      "['way', 'shirt', 'small', 'work', 'look', 'ordered', 'wear', 'think', 'short', 'unfortunately', 'material', 'waist', 'sweater', 'large', 'cute', 'love', 'looked', 'pretty', 'tight', 'style', 'really', 'flattering', 'wide', 'tried', 'looks']\n"
     ]
    }
   ],
   "source": [
    "print(pos_kws(3))"
   ]
  },
  {
   "cell_type": "code",
   "execution_count": null,
   "metadata": {
    "ExecuteTime": {
     "start_time": "2019-07-13T06:35:35.856Z"
    }
   },
   "outputs": [
    {
     "name": "stderr",
     "output_type": "stream",
     "text": [
      " 52%|████████████████████████████████████████▉                                     | 2663/5077 [14:35<12:55,  3.11it/s]"
     ]
    }
   ],
   "source": [
    "print(pos_kws(4))"
   ]
  },
  {
   "cell_type": "code",
   "execution_count": null,
   "metadata": {
    "ExecuteTime": {
     "start_time": "2019-07-13T06:35:35.859Z"
    }
   },
   "outputs": [],
   "source": [
    "print(pos_kws(5))"
   ]
  },
  {
   "cell_type": "code",
   "execution_count": null,
   "metadata": {},
   "outputs": [],
   "source": []
  }
 ],
 "metadata": {
  "kernelspec": {
   "display_name": "Python 3",
   "language": "python",
   "name": "python3"
  },
  "language_info": {
   "codemirror_mode": {
    "name": "ipython",
    "version": 3
   },
   "file_extension": ".py",
   "mimetype": "text/x-python",
   "name": "python",
   "nbconvert_exporter": "python",
   "pygments_lexer": "ipython3",
   "version": "3.7.3"
  },
  "toc": {
   "base_numbering": 1,
   "nav_menu": {},
   "number_sections": true,
   "sideBar": true,
   "skip_h1_title": false,
   "title_cell": "Table of Contents",
   "title_sidebar": "Contents",
   "toc_cell": false,
   "toc_position": {},
   "toc_section_display": true,
   "toc_window_display": false
  },
  "varInspector": {
   "cols": {
    "lenName": 16,
    "lenType": 16,
    "lenVar": 40
   },
   "kernels_config": {
    "python": {
     "delete_cmd_postfix": "",
     "delete_cmd_prefix": "del ",
     "library": "var_list.py",
     "varRefreshCmd": "print(var_dic_list())"
    },
    "r": {
     "delete_cmd_postfix": ") ",
     "delete_cmd_prefix": "rm(",
     "library": "var_list.r",
     "varRefreshCmd": "cat(var_dic_list()) "
    }
   },
   "types_to_exclude": [
    "module",
    "function",
    "builtin_function_or_method",
    "instance",
    "_Feature"
   ],
   "window_display": false
  }
 },
 "nbformat": 4,
 "nbformat_minor": 2
}
