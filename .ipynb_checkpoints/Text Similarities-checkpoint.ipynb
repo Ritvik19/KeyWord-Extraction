{
 "cells": [
  {
   "cell_type": "markdown",
   "metadata": {},
   "source": [
    "# Text Cleaning"
   ]
  },
  {
   "cell_type": "code",
   "execution_count": 1,
   "metadata": {
    "ExecuteTime": {
     "end_time": "2019-11-24T16:38:08.902274Z",
     "start_time": "2019-11-24T16:38:07.273669Z"
    }
   },
   "outputs": [],
   "source": [
    "import nltk, re\n",
    "from nltk.stem.porter import PorterStemmer\n",
    "from nltk.stem import WordNetLemmatizer\n",
    " \n",
    "def spell_correct(text):\n",
    "    text = re.sub(r\"can\\'t\", \"can not\", text)\n",
    "    text = re.sub(r\"what's\", \"what is \", text)\n",
    "    text = re.sub(r\"\\'s\", \" \", text)\n",
    "    text = re.sub(r\"\\'ve\", \" have \", text)\n",
    "    text = re.sub(r\"n't\", \" not \", text)\n",
    "    text = re.sub(r\"i'm\", \"i am \", text)\n",
    "    text = re.sub(r\"\\'re\", \" are \", text)\n",
    "    text = re.sub(r\"\\'d\", \" would \", text)\n",
    "    text = re.sub(r\"\\'ll\", \" will \", text)\n",
    "    text = re.sub(r\"\\0s\", \"0\", text)    \n",
    "    return text\n",
    " \n",
    "def remove_url(text):\n",
    "    URL_REGEX = re.compile(r'''((http[s]?://)[^ <>'\"{}|\\\\^`[\\]]*)''')\n",
    "    return URL_REGEX.sub(r' ', text)\n",
    " \n",
    "remove_punc = lambda x : re.sub(r\"\\W\", ' ', x)\n",
    " \n",
    "remove_num = lambda x : re.sub(r\"\\d\", ' ', x)\n",
    " \n",
    "remove_extra_spaces = lambda x : re.sub(r\"\\s+\", ' ', x)\n",
    " \n",
    "lower_case = lambda x : x.lower()\n",
    " \n",
    "with open('stopwords.txt') as f:\n",
    "    sw = map(lambda x : x.strip(), f.readlines())\n",
    "stop_words = set(nltk.corpus.stopwords.words('english'))|set(sw)\n",
    "remove_stopwords = lambda x: ' '.join(word for word in x.split() if word not in stop_words)\n",
    " \n",
    "ps = PorterStemmer()\n",
    "ps_stem = lambda x: ' '.join(ps.stem(word) for word in x.split())\n",
    " \n",
    "wnl = WordNetLemmatizer()\n",
    "wnl_lemmatize = lambda x: ' '.join(wnl.lemmatize(word) for word in x.split())\n",
    " \n",
    "def tag_pos(x):\n",
    "    tag_list =  nltk.pos_tag(nltk.word_tokenize(x))\n",
    "    pos = \"\"\n",
    "    for t in tag_list:\n",
    "        pos += t[0] +'(' + t[1] +')' + ' '\n",
    "    return pos\n",
    " \n",
    "def cleanText(x, rsw, stm, lem, tgps):\n",
    "    x = str(x)\n",
    "    x = remove_url(x)\n",
    "    x = lower_case(x)\n",
    "    x = spell_correct(x)\n",
    "    x = remove_punc(x)\n",
    "    x = remove_num(x)\n",
    "    x = remove_extra_spaces(x)\n",
    "   \n",
    "    if rsw:\n",
    "        x = remove_stopwords(x)\n",
    "    if stm:\n",
    "        x = ps_stem(x)\n",
    "    if lem:\n",
    "        x = wnl_lemmatize(x)\n",
    "    if tgps:\n",
    "        x = tag_pos(x)\n",
    "    return x"
   ]
  },
  {
   "cell_type": "markdown",
   "metadata": {},
   "source": [
    "# Various Similarity Metrics"
   ]
  },
  {
   "cell_type": "markdown",
   "metadata": {},
   "source": [
    "## Jaccard Similarity:\n",
    "Jaccard similarity or intersection over union is defined as size of intersection divided by size of union of two sets."
   ]
  },
  {
   "cell_type": "code",
   "execution_count": 2,
   "metadata": {
    "ExecuteTime": {
     "end_time": "2019-11-24T16:38:08.914163Z",
     "start_time": "2019-11-24T16:38:08.906342Z"
    }
   },
   "outputs": [],
   "source": [
    "def jaccard_sim(str1, str2):\n",
    "    a = set(cleanText(str1, True, False, True, False).split())\n",
    "    b = set(cleanText(str2, True, False, True, False).split())\n",
    "    c = a & b\n",
    "    d = a | b\n",
    "    return float(len(c)) / (len(d))*100"
   ]
  },
  {
   "cell_type": "code",
   "execution_count": 3,
   "metadata": {
    "ExecuteTime": {
     "end_time": "2019-11-24T16:38:12.006151Z",
     "start_time": "2019-11-24T16:38:08.918151Z"
    }
   },
   "outputs": [
    {
     "data": {
      "text/plain": [
       "50.0"
      ]
     },
     "execution_count": 3,
     "metadata": {},
     "output_type": "execute_result"
    }
   ],
   "source": [
    "jaccard_sim('AI is our friend and it has been friendly', 'AI and humans have always been friendly')"
   ]
  },
  {
   "cell_type": "markdown",
   "metadata": {},
   "source": [
    "## Cosine Similarity:\n",
    "Cosine similarity calculates similarity by measuring the cosine of angle between two vectors."
   ]
  },
  {
   "cell_type": "code",
   "execution_count": 4,
   "metadata": {
    "ExecuteTime": {
     "end_time": "2019-11-24T16:38:12.017959Z",
     "start_time": "2019-11-24T16:38:12.010073Z"
    }
   },
   "outputs": [],
   "source": [
    "from sklearn.feature_extraction.text import CountVectorizer\n",
    "from sklearn.metrics.pairwise import cosine_similarity\n",
    " \n",
    "def cosine_sim(str1, str2):\n",
    "    str_ = [cleanText(str1, True, False, True, False), cleanText(str2, True, False, True, False)]\n",
    "    vectorizer = CountVectorizer()\n",
    "    vect_ = vectorizer.fit_transform(str_).toarray()\n",
    "    return cosine_similarity([vect_[0]], [vect_[1]])[0][0]*100\n",
    " "
   ]
  },
  {
   "cell_type": "code",
   "execution_count": 5,
   "metadata": {
    "ExecuteTime": {
     "end_time": "2019-11-24T16:38:12.185048Z",
     "start_time": "2019-11-24T16:38:12.020951Z"
    }
   },
   "outputs": [
    {
     "data": {
      "text/plain": [
       "66.66666666666669"
      ]
     },
     "execution_count": 5,
     "metadata": {},
     "output_type": "execute_result"
    }
   ],
   "source": [
    "cosine_sim('AI is our friend and it has been friendly', 'AI and humans have always been friendly')"
   ]
  },
  {
   "cell_type": "markdown",
   "metadata": {},
   "source": [
    "## Fuzzy String Matching\n",
    "Fuzzy string matching is the technique of finding strings that match a pattern approximately (rather than exactly). In another word, fuzzy string matching is a type of search that will find matches even when users misspell words or enter only partial words for the search. It is also known as approximate string matching."
   ]
  },
  {
   "cell_type": "code",
   "execution_count": 6,
   "metadata": {
    "ExecuteTime": {
     "end_time": "2019-11-24T16:38:12.343612Z",
     "start_time": "2019-11-24T16:38:12.188715Z"
    }
   },
   "outputs": [
    {
     "name": "stderr",
     "output_type": "stream",
     "text": [
      "D:\\Users\\Ritvik\\Anaconda3\\envs\\datascience\\lib\\site-packages\\fuzzywuzzy\\fuzz.py:11: UserWarning: Using slow pure-python SequenceMatcher. Install python-Levenshtein to remove this warning\n",
      "  warnings.warn('Using slow pure-python SequenceMatcher. Install python-Levenshtein to remove this warning')\n"
     ]
    }
   ],
   "source": [
    "from fuzzywuzzy import fuzz"
   ]
  },
  {
   "cell_type": "markdown",
   "metadata": {},
   "source": [
    "### Ratio\n",
    "ratio compares the entire string similarity, in order"
   ]
  },
  {
   "cell_type": "code",
   "execution_count": 7,
   "metadata": {
    "ExecuteTime": {
     "end_time": "2019-11-24T16:38:12.584005Z",
     "start_time": "2019-11-24T16:38:12.346602Z"
    }
   },
   "outputs": [],
   "source": [
    "def fuzz_ratio(str1, str2):\n",
    "    return fuzz.ratio(cleanText(str1, True, False, True, False),\n",
    "                      cleanText(str2, True, False, True, False))"
   ]
  },
  {
   "cell_type": "code",
   "execution_count": 8,
   "metadata": {
    "ExecuteTime": {
     "end_time": "2019-11-24T16:38:12.726623Z",
     "start_time": "2019-11-24T16:38:12.600962Z"
    }
   },
   "outputs": [
    {
     "data": {
      "text/plain": [
       "74"
      ]
     },
     "execution_count": 8,
     "metadata": {},
     "output_type": "execute_result"
    }
   ],
   "source": [
    "fuzz_ratio('AI is our friend and it has been friendly', 'AI and humans have always been friendly')"
   ]
  },
  {
   "cell_type": "markdown",
   "metadata": {},
   "source": [
    "### Partial Ratio\n",
    "partial_ratio compares partial string similarity"
   ]
  },
  {
   "cell_type": "code",
   "execution_count": 9,
   "metadata": {
    "ExecuteTime": {
     "end_time": "2019-11-24T16:38:12.858271Z",
     "start_time": "2019-11-24T16:38:12.731609Z"
    }
   },
   "outputs": [],
   "source": [
    "def fuzz_partial_ratio(str1, str2):\n",
    "    return fuzz.partial_ratio(cleanText(str1, True, False, True, False),\n",
    "                              cleanText(str2, True, False, True, False))"
   ]
  },
  {
   "cell_type": "code",
   "execution_count": 10,
   "metadata": {
    "ExecuteTime": {
     "end_time": "2019-11-24T16:38:13.004647Z",
     "start_time": "2019-11-24T16:38:12.862260Z"
    }
   },
   "outputs": [
    {
     "data": {
      "text/plain": [
       "71"
      ]
     },
     "execution_count": 10,
     "metadata": {},
     "output_type": "execute_result"
    }
   ],
   "source": [
    "fuzz_partial_ratio('AI is our friend and it has been friendly', 'AI and humans have always been friendly')"
   ]
  },
  {
   "cell_type": "markdown",
   "metadata": {},
   "source": [
    "### Token Sort Ratio\n",
    "token_sort_ratio ignores word order"
   ]
  },
  {
   "cell_type": "code",
   "execution_count": 11,
   "metadata": {
    "ExecuteTime": {
     "end_time": "2019-11-24T16:38:13.168513Z",
     "start_time": "2019-11-24T16:38:13.007641Z"
    }
   },
   "outputs": [],
   "source": [
    "def fuzz_token_sort_ratio(str1, str2):\n",
    "    return fuzz.token_sort_ratio(cleanText(str1, True, False, True, False),\n",
    "                              cleanText(str2, True, False, True, False))"
   ]
  },
  {
   "cell_type": "code",
   "execution_count": 12,
   "metadata": {
    "ExecuteTime": {
     "end_time": "2019-11-24T16:38:13.299948Z",
     "start_time": "2019-11-24T16:38:13.171461Z"
    }
   },
   "outputs": [
    {
     "data": {
      "text/plain": [
       "63"
      ]
     },
     "execution_count": 12,
     "metadata": {},
     "output_type": "execute_result"
    }
   ],
   "source": [
    "fuzz_token_sort_ratio('AI is our friend and it has been friendly', 'AI and humans have always been friendly')"
   ]
  },
  {
   "cell_type": "markdown",
   "metadata": {},
   "source": [
    "### Token Set Ratio\n",
    "token_set_ratio ignores duplicated words"
   ]
  },
  {
   "cell_type": "code",
   "execution_count": 13,
   "metadata": {
    "ExecuteTime": {
     "end_time": "2019-11-24T16:38:13.439042Z",
     "start_time": "2019-11-24T16:38:13.307927Z"
    }
   },
   "outputs": [],
   "source": [
    "def fuzz_token_set_ratio(str1, str2):\n",
    "    return fuzz.token_sort_ratio(cleanText(str1, True, False, True, False),\n",
    "                              cleanText(str2, True, False, True, False))"
   ]
  },
  {
   "cell_type": "code",
   "execution_count": 14,
   "metadata": {
    "ExecuteTime": {
     "end_time": "2019-11-24T16:38:13.566688Z",
     "start_time": "2019-11-24T16:38:13.446065Z"
    }
   },
   "outputs": [
    {
     "data": {
      "text/plain": [
       "63"
      ]
     },
     "execution_count": 14,
     "metadata": {},
     "output_type": "execute_result"
    }
   ],
   "source": [
    "fuzz_token_set_ratio('AI is our friend and it has been friendly', 'AI and humans have always been friendly')"
   ]
  },
  {
   "cell_type": "markdown",
   "metadata": {},
   "source": [
    "## Removing and Matching Synonyms"
   ]
  },
  {
   "cell_type": "code",
   "execution_count": 15,
   "metadata": {
    "ExecuteTime": {
     "end_time": "2019-11-24T16:38:13.707261Z",
     "start_time": "2019-11-24T16:38:13.575624Z"
    }
   },
   "outputs": [],
   "source": [
    "from nltk.corpus import wordnet\n",
    " \n",
    "def compute_synonyms(x):\n",
    "    synonyms_list = [x]\n",
    "    for syn in wordnet.synsets(x):\n",
    "        for s in syn.lemmas():\n",
    "            synonyms_list.append(s.name())\n",
    "    return set(synonyms_list)\n",
    " \n",
    "def remove_synonyms(str_):\n",
    "    words = cleanText(str_, True, False, True, False).split()\n",
    "    synonyms = set()\n",
    "    reduced_words = set()\n",
    "    for w in words:\n",
    "        flag = 0\n",
    "        syns = compute_synonyms(w)\n",
    "        for s in syns:\n",
    "            if s in synonyms:\n",
    "                flag = 1\n",
    "                break\n",
    "        synonyms = synonyms | syns\n",
    "        if flag == 0:\n",
    "            reduced_words = reduced_words|set([w])\n",
    "    return reduced_words"
   ]
  },
  {
   "cell_type": "markdown",
   "metadata": {},
   "source": [
    "### Jaccard Similarity"
   ]
  },
  {
   "cell_type": "code",
   "execution_count": 16,
   "metadata": {
    "ExecuteTime": {
     "end_time": "2019-11-24T16:38:13.824553Z",
     "start_time": "2019-11-24T16:38:13.713202Z"
    }
   },
   "outputs": [],
   "source": [
    "def jaccard_sim_syn(str1, str2):\n",
    "    a = remove_synonyms(str1)\n",
    "    b = remove_synonyms(str2)\n",
    "    c = 0\n",
    "    for w in a:\n",
    "        syns = compute_synonyms(w)\n",
    "        for s in syns:\n",
    "            if s in b:\n",
    "                c += 1\n",
    "    return float(c / (len(a)+len(b)-c))*100"
   ]
  },
  {
   "cell_type": "code",
   "execution_count": 17,
   "metadata": {
    "ExecuteTime": {
     "end_time": "2019-11-24T16:38:13.986389Z",
     "start_time": "2019-11-24T16:38:13.828541Z"
    }
   },
   "outputs": [
    {
     "data": {
      "text/plain": [
       "50.0"
      ]
     },
     "execution_count": 17,
     "metadata": {},
     "output_type": "execute_result"
    }
   ],
   "source": [
    "jaccard_sim_syn('AI is our friend and it has been friendly', 'AI and humans have always been friendly')"
   ]
  },
  {
   "cell_type": "markdown",
   "metadata": {},
   "source": [
    "## Similarity Metrics Using WordNet"
   ]
  },
  {
   "cell_type": "code",
   "execution_count": 18,
   "metadata": {
    "ExecuteTime": {
     "end_time": "2019-11-24T16:38:14.102007Z",
     "start_time": "2019-11-24T16:38:13.994745Z"
    }
   },
   "outputs": [],
   "source": [
    "from nltk.corpus import wordnet as wn\n",
    "from nltk import pos_tag"
   ]
  },
  {
   "cell_type": "code",
   "execution_count": 19,
   "metadata": {
    "ExecuteTime": {
     "end_time": "2019-11-24T16:38:14.243527Z",
     "start_time": "2019-11-24T16:38:14.105934Z"
    }
   },
   "outputs": [],
   "source": [
    "def penn_to_wn(tag):\n",
    "    \"\"\" Convert between a Penn Treebank tag to a simplified Wordnet tag \"\"\"\n",
    "    if tag.startswith('N'):\n",
    "        return 'n'\n",
    "    if tag.startswith('V'):\n",
    "        return 'v'\n",
    "    if tag.startswith('J'):\n",
    "        return 'a'\n",
    "    if tag.startswith('R'):\n",
    "        return 'r'\n",
    "    return None\n",
    " \n",
    "def tagged_to_synset(word, tag):\n",
    "    wn_tag = penn_to_wn(tag)\n",
    "    if wn_tag is None:\n",
    "        return None\n",
    "    try:\n",
    "        return wn.synsets(word, wn_tag)[0]\n",
    "    except:\n",
    "        return None\n",
    "    \n",
    "def sim_wordnet(sentence1, sentence2):\n",
    "    \"\"\" compute the sentence similarity using Wordnet \"\"\"\n",
    "    # Tokenize and tag\n",
    "    sentence1 = pos_tag(cleanText(sentence1, True, False, False, False).split())\n",
    "    sentence2 = pos_tag(cleanText(sentence2, True, False, False, False).split())\n",
    "    \n",
    "    # Get the synsets for the tagged words\n",
    "    synsets1 = [tagged_to_synset(*tagged_word) for tagged_word in sentence1]\n",
    "    synsets2 = [tagged_to_synset(*tagged_word) for tagged_word in sentence2]\n",
    "    \n",
    "    # Filter out the Nones\n",
    "    synsets1 = [ss for ss in synsets1 if ss is not None]\n",
    "    synsets2 = [ss for ss in synsets2 if ss is not None]\n",
    "\n",
    "    score, count = 0.0, 0\n",
    " \n",
    "    # For each word in the first sentence\n",
    "    for synset in synsets1:\n",
    "        # Get the similarity value of the most similar word in the other sentence\n",
    "        scores = [synset.path_similarity(ss) for ss in synsets2]\n",
    "        scores = [ss for ss in scores if ss is not None]\n",
    "        best_score = max(scores) if len(scores) > 0 else 0\n",
    " \n",
    "        # Check that the similarity could have been computed\n",
    "        if best_score is not None:\n",
    "            score += best_score\n",
    "            count += 1\n",
    "    \n",
    "    return score / count if count > 0 else 0\n",
    "\n",
    "def sim_wordnet_symm(sentence1, sentence2):\n",
    "    \"\"\" compute the symmetric sentence similarity using Wordnet \"\"\"\n",
    "    return (sim_wordnet(sentence1, sentence2) + sim_wordnet(sentence2, sentence1)) / 2"
   ]
  },
  {
   "cell_type": "code",
   "execution_count": 20,
   "metadata": {
    "ExecuteTime": {
     "end_time": "2019-11-24T16:38:14.803029Z",
     "start_time": "2019-11-24T16:38:14.249472Z"
    }
   },
   "outputs": [
    {
     "data": {
      "text/plain": [
       "0.46875"
      ]
     },
     "execution_count": 20,
     "metadata": {},
     "output_type": "execute_result"
    }
   ],
   "source": [
    "sim_wordnet_symm('AI is our friend and it has been friendly', 'AI and humans have always been friendly')"
   ]
  },
  {
   "cell_type": "markdown",
   "metadata": {},
   "source": [
    "# Testing"
   ]
  },
  {
   "cell_type": "code",
   "execution_count": 21,
   "metadata": {
    "ExecuteTime": {
     "end_time": "2019-11-24T16:38:14.811972Z",
     "start_time": "2019-11-24T16:38:14.805989Z"
    }
   },
   "outputs": [],
   "source": [
    "from sklearn.metrics import confusion_matrix, classification_report"
   ]
  },
  {
   "cell_type": "code",
   "execution_count": 22,
   "metadata": {
    "ExecuteTime": {
     "end_time": "2019-11-24T16:38:15.920498Z",
     "start_time": "2019-11-24T16:38:14.814963Z"
    }
   },
   "outputs": [],
   "source": [
    "import pandas as pd\n",
    " \n",
    "pd.options.display.max_columns = 10\n",
    "pd.options.display.max_colwidth = -1"
   ]
  },
  {
   "cell_type": "code",
   "execution_count": 23,
   "metadata": {
    "ExecuteTime": {
     "end_time": "2019-11-24T16:38:17.538174Z",
     "start_time": "2019-11-24T16:38:15.928396Z"
    }
   },
   "outputs": [],
   "source": [
    "df = pd.read_csv('Quora Question Pairs.csv')"
   ]
  },
  {
   "cell_type": "code",
   "execution_count": 24,
   "metadata": {
    "ExecuteTime": {
     "end_time": "2019-11-24T16:38:17.641905Z",
     "start_time": "2019-11-24T16:38:17.545074Z"
    }
   },
   "outputs": [],
   "source": [
    "d0 = df[df['is_duplicate'] == 0].sample(n=25)\n",
    "d1 = df[df['is_duplicate'] == 1].sample(n=25)\n",
    "d = pd.concat([d0, d1], axis=0)\n",
    "d = d.sample(n=50)\n",
    "d = d.reset_index(drop=True)"
   ]
  },
  {
   "cell_type": "code",
   "execution_count": 25,
   "metadata": {
    "ExecuteTime": {
     "end_time": "2019-11-24T16:38:25.446793Z",
     "start_time": "2019-11-24T16:38:17.645803Z"
    }
   },
   "outputs": [],
   "source": [
    "d['Jaccard'] = d[['question1', 'question2']].apply(lambda x: jaccard_sim(x.question1, x.question2), axis=1)\n",
    "d['Cosine'] = d[['question1', 'question2']].apply(lambda x: cosine_sim(x.question1, x.question2), axis=1)\n",
    "d['F Ratio'] = d[['question1', 'question2']].apply(lambda x: fuzz_ratio(x.question1, x.question2), axis=1)\n",
    "d['F Partial Ratio'] = d[['question1', 'question2']].apply(lambda x: fuzz_partial_ratio(x.question1, x.question2), axis=1)\n",
    "d['F Token Sort Ratio'] = d[['question1', 'question2']].apply(lambda x: fuzz_token_sort_ratio(x.question1, x.question2), axis=1)\n",
    "d['F Token Set Ratio'] = d[['question1', 'question2']].apply(lambda x: fuzz_token_set_ratio(x.question1, x.question2), axis=1)\n",
    "d['S Jaccard'] = d[['question1', 'question2']].apply(lambda x: jaccard_sim_syn(x.question1, x.question2), axis=1)\n",
    "d['Word Net'] = d[['question1', 'question2']].apply(lambda x: sim_wordnet_symm(x.question1, x.question2), axis=1)"
   ]
  },
  {
   "cell_type": "code",
   "execution_count": 26,
   "metadata": {
    "ExecuteTime": {
     "end_time": "2019-11-24T16:38:25.561659Z",
     "start_time": "2019-11-24T16:38:25.453679Z"
    }
   },
   "outputs": [
    {
     "data": {
      "text/html": [
       "<div>\n",
       "<style scoped>\n",
       "    .dataframe tbody tr th:only-of-type {\n",
       "        vertical-align: middle;\n",
       "    }\n",
       "\n",
       "    .dataframe tbody tr th {\n",
       "        vertical-align: top;\n",
       "    }\n",
       "\n",
       "    .dataframe thead th {\n",
       "        text-align: right;\n",
       "    }\n",
       "</style>\n",
       "<table border=\"1\" class=\"dataframe\">\n",
       "  <thead>\n",
       "    <tr style=\"text-align: right;\">\n",
       "      <th></th>\n",
       "      <th>question1</th>\n",
       "      <th>question2</th>\n",
       "      <th>is_duplicate</th>\n",
       "      <th>Jaccard</th>\n",
       "      <th>Cosine</th>\n",
       "      <th>...</th>\n",
       "      <th>F Partial Ratio</th>\n",
       "      <th>F Token Sort Ratio</th>\n",
       "      <th>F Token Set Ratio</th>\n",
       "      <th>S Jaccard</th>\n",
       "      <th>Word Net</th>\n",
       "    </tr>\n",
       "  </thead>\n",
       "  <tbody>\n",
       "    <tr>\n",
       "      <td>0</td>\n",
       "      <td>How can we integrate currently working Lucene search engine with the Solr search engine?</td>\n",
       "      <td>Has anyone used the Redlink Solr plugin for a semantic search?</td>\n",
       "      <td>0</td>\n",
       "      <td>18.181818</td>\n",
       "      <td>33.968311</td>\n",
       "      <td>...</td>\n",
       "      <td>45</td>\n",
       "      <td>47</td>\n",
       "      <td>47</td>\n",
       "      <td>18.181818</td>\n",
       "      <td>0.368056</td>\n",
       "    </tr>\n",
       "    <tr>\n",
       "      <td>1</td>\n",
       "      <td>What are some great examples of a parallel circuit?</td>\n",
       "      <td>What are examples of a complex circuit?</td>\n",
       "      <td>0</td>\n",
       "      <td>40.000000</td>\n",
       "      <td>57.735027</td>\n",
       "      <td>...</td>\n",
       "      <td>78</td>\n",
       "      <td>57</td>\n",
       "      <td>57</td>\n",
       "      <td>40.000000</td>\n",
       "      <td>0.762500</td>\n",
       "    </tr>\n",
       "    <tr>\n",
       "      <td>2</td>\n",
       "      <td>When a friend of mine asks me, what do I want to do, I'm clueless. How can I solve this?</td>\n",
       "      <td>How do you find your life's purpose?</td>\n",
       "      <td>0</td>\n",
       "      <td>0.000000</td>\n",
       "      <td>0.000000</td>\n",
       "      <td>...</td>\n",
       "      <td>45</td>\n",
       "      <td>19</td>\n",
       "      <td>19</td>\n",
       "      <td>0.000000</td>\n",
       "      <td>0.095455</td>\n",
       "    </tr>\n",
       "    <tr>\n",
       "      <td>3</td>\n",
       "      <td>What is the effect of Trump's presidency on US green card backlogs?</td>\n",
       "      <td>Can the trump presidency create any problem for recent green card holders?</td>\n",
       "      <td>0</td>\n",
       "      <td>40.000000</td>\n",
       "      <td>57.735027</td>\n",
       "      <td>...</td>\n",
       "      <td>51</td>\n",
       "      <td>61</td>\n",
       "      <td>61</td>\n",
       "      <td>40.000000</td>\n",
       "      <td>0.651996</td>\n",
       "    </tr>\n",
       "    <tr>\n",
       "      <td>4</td>\n",
       "      <td>What is the sweetest thing someone said to you?</td>\n",
       "      <td>What is the sweetest thing that someone has ever said to you?</td>\n",
       "      <td>1</td>\n",
       "      <td>100.000000</td>\n",
       "      <td>100.000000</td>\n",
       "      <td>...</td>\n",
       "      <td>100</td>\n",
       "      <td>100</td>\n",
       "      <td>100</td>\n",
       "      <td>100.000000</td>\n",
       "      <td>1.000000</td>\n",
       "    </tr>\n",
       "    <tr>\n",
       "      <td>5</td>\n",
       "      <td>Do males remember their first ejaculation?</td>\n",
       "      <td>What does it feel like for a woman when a man ejaculates inside of her?</td>\n",
       "      <td>0</td>\n",
       "      <td>0.000000</td>\n",
       "      <td>0.000000</td>\n",
       "      <td>...</td>\n",
       "      <td>61</td>\n",
       "      <td>49</td>\n",
       "      <td>49</td>\n",
       "      <td>0.000000</td>\n",
       "      <td>0.134615</td>\n",
       "    </tr>\n",
       "    <tr>\n",
       "      <td>6</td>\n",
       "      <td>Can I increase my IQ?</td>\n",
       "      <td>How do I increase IQ?</td>\n",
       "      <td>1</td>\n",
       "      <td>100.000000</td>\n",
       "      <td>100.000000</td>\n",
       "      <td>...</td>\n",
       "      <td>100</td>\n",
       "      <td>100</td>\n",
       "      <td>100</td>\n",
       "      <td>100.000000</td>\n",
       "      <td>1.000000</td>\n",
       "    </tr>\n",
       "    <tr>\n",
       "      <td>7</td>\n",
       "      <td>What is the size of an average cake at Costco?</td>\n",
       "      <td>What kind of beer does Costco sell?</td>\n",
       "      <td>0</td>\n",
       "      <td>14.285714</td>\n",
       "      <td>25.000000</td>\n",
       "      <td>...</td>\n",
       "      <td>49</td>\n",
       "      <td>53</td>\n",
       "      <td>53</td>\n",
       "      <td>14.285714</td>\n",
       "      <td>0.066239</td>\n",
       "    </tr>\n",
       "    <tr>\n",
       "      <td>8</td>\n",
       "      <td>What would you do if you were invisible for a day?</td>\n",
       "      <td>What would you do if you have invisible power for a day?</td>\n",
       "      <td>1</td>\n",
       "      <td>66.666667</td>\n",
       "      <td>81.649658</td>\n",
       "      <td>...</td>\n",
       "      <td>77</td>\n",
       "      <td>81</td>\n",
       "      <td>81</td>\n",
       "      <td>66.666667</td>\n",
       "      <td>0.857143</td>\n",
       "    </tr>\n",
       "    <tr>\n",
       "      <td>9</td>\n",
       "      <td>How can one be like Marilyn Monroe?</td>\n",
       "      <td>Why is Marilyn Monroe so famous?</td>\n",
       "      <td>0</td>\n",
       "      <td>50.000000</td>\n",
       "      <td>66.666667</td>\n",
       "      <td>...</td>\n",
       "      <td>74</td>\n",
       "      <td>75</td>\n",
       "      <td>75</td>\n",
       "      <td>50.000000</td>\n",
       "      <td>0.000000</td>\n",
       "    </tr>\n",
       "    <tr>\n",
       "      <td>10</td>\n",
       "      <td>What is more precious than time?</td>\n",
       "      <td>How precious is time?</td>\n",
       "      <td>0</td>\n",
       "      <td>100.000000</td>\n",
       "      <td>100.000000</td>\n",
       "      <td>...</td>\n",
       "      <td>100</td>\n",
       "      <td>100</td>\n",
       "      <td>100</td>\n",
       "      <td>100.000000</td>\n",
       "      <td>1.000000</td>\n",
       "    </tr>\n",
       "    <tr>\n",
       "      <td>11</td>\n",
       "      <td>What is the best gift that you ever recieved?</td>\n",
       "      <td>What is the best physical gift you've ever received?</td>\n",
       "      <td>1</td>\n",
       "      <td>40.000000</td>\n",
       "      <td>57.735027</td>\n",
       "      <td>...</td>\n",
       "      <td>74</td>\n",
       "      <td>76</td>\n",
       "      <td>76</td>\n",
       "      <td>40.000000</td>\n",
       "      <td>0.406250</td>\n",
       "    </tr>\n",
       "    <tr>\n",
       "      <td>12</td>\n",
       "      <td>Why do most of the serials in India have the same background of family tensions and drama?</td>\n",
       "      <td>How popular are Pakistani drama serials in India?</td>\n",
       "      <td>0</td>\n",
       "      <td>37.500000</td>\n",
       "      <td>54.772256</td>\n",
       "      <td>...</td>\n",
       "      <td>33</td>\n",
       "      <td>45</td>\n",
       "      <td>45</td>\n",
       "      <td>37.500000</td>\n",
       "      <td>0.530594</td>\n",
       "    </tr>\n",
       "    <tr>\n",
       "      <td>13</td>\n",
       "      <td>What is definition of voltage drop?</td>\n",
       "      <td>Why does voltage drop? Physics?</td>\n",
       "      <td>1</td>\n",
       "      <td>50.000000</td>\n",
       "      <td>66.666667</td>\n",
       "      <td>...</td>\n",
       "      <td>77</td>\n",
       "      <td>57</td>\n",
       "      <td>57</td>\n",
       "      <td>50.000000</td>\n",
       "      <td>0.693723</td>\n",
       "    </tr>\n",
       "    <tr>\n",
       "      <td>14</td>\n",
       "      <td>How do gun control advocates think their policies will manage to affect actual criminals and not just law abiding citizens?</td>\n",
       "      <td>How do pro gun advocates feel when his/her loved one gets killed in a mass shooting? Does it change his/her minds about gun control and ownership?</td>\n",
       "      <td>0</td>\n",
       "      <td>13.636364</td>\n",
       "      <td>28.867513</td>\n",
       "      <td>...</td>\n",
       "      <td>33</td>\n",
       "      <td>46</td>\n",
       "      <td>46</td>\n",
       "      <td>15.000000</td>\n",
       "      <td>0.320799</td>\n",
       "    </tr>\n",
       "    <tr>\n",
       "      <td>15</td>\n",
       "      <td>How long does a intensity power bank take to charge?</td>\n",
       "      <td>How long does it take just to energise a 400kv transmission line during power system restoration?</td>\n",
       "      <td>0</td>\n",
       "      <td>20.000000</td>\n",
       "      <td>33.806170</td>\n",
       "      <td>...</td>\n",
       "      <td>52</td>\n",
       "      <td>45</td>\n",
       "      <td>45</td>\n",
       "      <td>20.000000</td>\n",
       "      <td>0.474167</td>\n",
       "    </tr>\n",
       "    <tr>\n",
       "      <td>16</td>\n",
       "      <td>What is the best PHP framework for web development? Why?</td>\n",
       "      <td>Which is the best PHP framework for a web developer?</td>\n",
       "      <td>1</td>\n",
       "      <td>66.666667</td>\n",
       "      <td>80.000000</td>\n",
       "      <td>...</td>\n",
       "      <td>97</td>\n",
       "      <td>94</td>\n",
       "      <td>94</td>\n",
       "      <td>66.666667</td>\n",
       "      <td>0.777473</td>\n",
       "    </tr>\n",
       "    <tr>\n",
       "      <td>17</td>\n",
       "      <td>Applying olive oil on face every night. What are the pros and cons?</td>\n",
       "      <td>Can you put olive oil on your face?</td>\n",
       "      <td>1</td>\n",
       "      <td>42.857143</td>\n",
       "      <td>65.465367</td>\n",
       "      <td>...</td>\n",
       "      <td>100</td>\n",
       "      <td>55</td>\n",
       "      <td>55</td>\n",
       "      <td>42.857143</td>\n",
       "      <td>0.756036</td>\n",
       "    </tr>\n",
       "    <tr>\n",
       "      <td>18</td>\n",
       "      <td>Does age really matter in a relationship?</td>\n",
       "      <td>Do horoscopes matter in a relationship?</td>\n",
       "      <td>0</td>\n",
       "      <td>40.000000</td>\n",
       "      <td>57.735027</td>\n",
       "      <td>...</td>\n",
       "      <td>77</td>\n",
       "      <td>71</td>\n",
       "      <td>71</td>\n",
       "      <td>40.000000</td>\n",
       "      <td>0.397096</td>\n",
       "    </tr>\n",
       "    <tr>\n",
       "      <td>19</td>\n",
       "      <td>How do I work out the most successful social media account from a list of the amount of followers gained over the weeks the accounts have been active?</td>\n",
       "      <td>How do I find which followers of any (i.e. not mine) Twitter account favorite and/or retweet the most?</td>\n",
       "      <td>0</td>\n",
       "      <td>14.285714</td>\n",
       "      <td>37.210420</td>\n",
       "      <td>...</td>\n",
       "      <td>64</td>\n",
       "      <td>50</td>\n",
       "      <td>50</td>\n",
       "      <td>15.384615</td>\n",
       "      <td>0.408295</td>\n",
       "    </tr>\n",
       "    <tr>\n",
       "      <td>20</td>\n",
       "      <td>What makes your house feel like a home?</td>\n",
       "      <td>What does buying your first house feel like?</td>\n",
       "      <td>0</td>\n",
       "      <td>50.000000</td>\n",
       "      <td>67.082039</td>\n",
       "      <td>...</td>\n",
       "      <td>73</td>\n",
       "      <td>64</td>\n",
       "      <td>64</td>\n",
       "      <td>60.000000</td>\n",
       "      <td>0.619071</td>\n",
       "    </tr>\n",
       "    <tr>\n",
       "      <td>21</td>\n",
       "      <td>Where can I get best quality video DJ for party in Sydney?</td>\n",
       "      <td>Where can I get best quality DJ for Birthday party in Sydney?</td>\n",
       "      <td>1</td>\n",
       "      <td>71.428571</td>\n",
       "      <td>83.333333</td>\n",
       "      <td>...</td>\n",
       "      <td>74</td>\n",
       "      <td>79</td>\n",
       "      <td>79</td>\n",
       "      <td>71.428571</td>\n",
       "      <td>0.855556</td>\n",
       "    </tr>\n",
       "    <tr>\n",
       "      <td>22</td>\n",
       "      <td>How can I start my startup?</td>\n",
       "      <td>How can I start startup?</td>\n",
       "      <td>1</td>\n",
       "      <td>100.000000</td>\n",
       "      <td>100.000000</td>\n",
       "      <td>...</td>\n",
       "      <td>100</td>\n",
       "      <td>100</td>\n",
       "      <td>100</td>\n",
       "      <td>100.000000</td>\n",
       "      <td>1.000000</td>\n",
       "    </tr>\n",
       "    <tr>\n",
       "      <td>23</td>\n",
       "      <td>Is there a minimum possible wavelength of electromagnetic radiation? And is there any corresponding 'maximum possible energy' for the said radiation?</td>\n",
       "      <td>What is the highest possible frequency/shortest possible wavelength known for electromagnetic radiation?</td>\n",
       "      <td>1</td>\n",
       "      <td>30.769231</td>\n",
       "      <td>62.279916</td>\n",
       "      <td>...</td>\n",
       "      <td>56</td>\n",
       "      <td>68</td>\n",
       "      <td>68</td>\n",
       "      <td>30.769231</td>\n",
       "      <td>0.620651</td>\n",
       "    </tr>\n",
       "    <tr>\n",
       "      <td>24</td>\n",
       "      <td>Which is the best area to stay in for a Delhi tour?</td>\n",
       "      <td>Which blog platform in vietnamese recommend?</td>\n",
       "      <td>0</td>\n",
       "      <td>0.000000</td>\n",
       "      <td>0.000000</td>\n",
       "      <td>...</td>\n",
       "      <td>31</td>\n",
       "      <td>24</td>\n",
       "      <td>24</td>\n",
       "      <td>0.000000</td>\n",
       "      <td>0.069907</td>\n",
       "    </tr>\n",
       "    <tr>\n",
       "      <td>25</td>\n",
       "      <td>What is the best color of the Yamaha R15?</td>\n",
       "      <td>What is special on the Yamaha R15?</td>\n",
       "      <td>0</td>\n",
       "      <td>40.000000</td>\n",
       "      <td>40.824829</td>\n",
       "      <td>...</td>\n",
       "      <td>69</td>\n",
       "      <td>51</td>\n",
       "      <td>51</td>\n",
       "      <td>40.000000</td>\n",
       "      <td>0.431818</td>\n",
       "    </tr>\n",
       "    <tr>\n",
       "      <td>26</td>\n",
       "      <td>When will Detective Conan end?</td>\n",
       "      <td>Where can I download Detective Conan's latest episodes with English softsubs?</td>\n",
       "      <td>0</td>\n",
       "      <td>25.000000</td>\n",
       "      <td>43.643578</td>\n",
       "      <td>...</td>\n",
       "      <td>84</td>\n",
       "      <td>51</td>\n",
       "      <td>51</td>\n",
       "      <td>25.000000</td>\n",
       "      <td>0.166667</td>\n",
       "    </tr>\n",
       "    <tr>\n",
       "      <td>27</td>\n",
       "      <td>Where is King Henry VIII buried?</td>\n",
       "      <td>How was King Henry VIII a dictator?</td>\n",
       "      <td>0</td>\n",
       "      <td>60.000000</td>\n",
       "      <td>75.000000</td>\n",
       "      <td>...</td>\n",
       "      <td>77</td>\n",
       "      <td>74</td>\n",
       "      <td>74</td>\n",
       "      <td>60.000000</td>\n",
       "      <td>0.692929</td>\n",
       "    </tr>\n",
       "    <tr>\n",
       "      <td>28</td>\n",
       "      <td>Which laptop is best under 25000?</td>\n",
       "      <td>Which is the best laptop model within 25000 rupees?</td>\n",
       "      <td>1</td>\n",
       "      <td>50.000000</td>\n",
       "      <td>70.710678</td>\n",
       "      <td>...</td>\n",
       "      <td>73</td>\n",
       "      <td>65</td>\n",
       "      <td>65</td>\n",
       "      <td>50.000000</td>\n",
       "      <td>0.666667</td>\n",
       "    </tr>\n",
       "    <tr>\n",
       "      <td>29</td>\n",
       "      <td>What is the fastest way to fall asleep?</td>\n",
       "      <td>How do I fall asleep without masturbating?</td>\n",
       "      <td>0</td>\n",
       "      <td>40.000000</td>\n",
       "      <td>57.735027</td>\n",
       "      <td>...</td>\n",
       "      <td>48</td>\n",
       "      <td>68</td>\n",
       "      <td>68</td>\n",
       "      <td>40.000000</td>\n",
       "      <td>0.685185</td>\n",
       "    </tr>\n",
       "    <tr>\n",
       "      <td>30</td>\n",
       "      <td>How can I improve in competitive programming?</td>\n",
       "      <td>How do I become efficient in competitive programming?</td>\n",
       "      <td>1</td>\n",
       "      <td>50.000000</td>\n",
       "      <td>66.666667</td>\n",
       "      <td>...</td>\n",
       "      <td>85</td>\n",
       "      <td>81</td>\n",
       "      <td>81</td>\n",
       "      <td>50.000000</td>\n",
       "      <td>0.708333</td>\n",
       "    </tr>\n",
       "    <tr>\n",
       "      <td>31</td>\n",
       "      <td>How people learn to hack?</td>\n",
       "      <td>How can I learn hacking?</td>\n",
       "      <td>1</td>\n",
       "      <td>25.000000</td>\n",
       "      <td>40.824829</td>\n",
       "      <td>...</td>\n",
       "      <td>87</td>\n",
       "      <td>67</td>\n",
       "      <td>67</td>\n",
       "      <td>25.000000</td>\n",
       "      <td>0.000000</td>\n",
       "    </tr>\n",
       "    <tr>\n",
       "      <td>32</td>\n",
       "      <td>Why can't I reach vaginal orgasm?</td>\n",
       "      <td>Why can't I reach orgasm?</td>\n",
       "      <td>1</td>\n",
       "      <td>66.666667</td>\n",
       "      <td>81.649658</td>\n",
       "      <td>...</td>\n",
       "      <td>67</td>\n",
       "      <td>75</td>\n",
       "      <td>75</td>\n",
       "      <td>66.666667</td>\n",
       "      <td>0.833333</td>\n",
       "    </tr>\n",
       "    <tr>\n",
       "      <td>33</td>\n",
       "      <td>I am green card holder My minor children are living abroad I have applied for their green card I don't want to leave them alone and stay in USA?</td>\n",
       "      <td>How does [math]KI[/math] replace [math]Cl[/math] in [math]PbCl_2[/math] in the reaction: [math]PbCl_2 + KI \\to PbI_2 + KCl[/math]?</td>\n",
       "      <td>0</td>\n",
       "      <td>0.000000</td>\n",
       "      <td>0.000000</td>\n",
       "      <td>...</td>\n",
       "      <td>14</td>\n",
       "      <td>10</td>\n",
       "      <td>10</td>\n",
       "      <td>0.000000</td>\n",
       "      <td>0.095823</td>\n",
       "    </tr>\n",
       "    <tr>\n",
       "      <td>34</td>\n",
       "      <td>Which is a good solar panel installation provider near Huntington Park, California CA?</td>\n",
       "      <td>What is a good solar panel installation provider near Arlington, California CA?</td>\n",
       "      <td>0</td>\n",
       "      <td>72.727273</td>\n",
       "      <td>84.327404</td>\n",
       "      <td>...</td>\n",
       "      <td>87</td>\n",
       "      <td>81</td>\n",
       "      <td>81</td>\n",
       "      <td>66.666667</td>\n",
       "      <td>0.828954</td>\n",
       "    </tr>\n",
       "    <tr>\n",
       "      <td>35</td>\n",
       "      <td>What's the best way to find private equity firms that invest in oil and gas?</td>\n",
       "      <td>How do private equity firms who invest in real estate finance their investments? How much do they put down?</td>\n",
       "      <td>0</td>\n",
       "      <td>33.333333</td>\n",
       "      <td>50.000000</td>\n",
       "      <td>...</td>\n",
       "      <td>70</td>\n",
       "      <td>60</td>\n",
       "      <td>60</td>\n",
       "      <td>33.333333</td>\n",
       "      <td>0.540818</td>\n",
       "    </tr>\n",
       "    <tr>\n",
       "      <td>36</td>\n",
       "      <td>What is a hyperbolic function?</td>\n",
       "      <td>What is hyperbolic function?</td>\n",
       "      <td>1</td>\n",
       "      <td>100.000000</td>\n",
       "      <td>100.000000</td>\n",
       "      <td>...</td>\n",
       "      <td>100</td>\n",
       "      <td>100</td>\n",
       "      <td>100</td>\n",
       "      <td>100.000000</td>\n",
       "      <td>1.000000</td>\n",
       "    </tr>\n",
       "    <tr>\n",
       "      <td>37</td>\n",
       "      <td>How do I write street address in Nepal?</td>\n",
       "      <td>Nepal: Was Nepal a Hindu Rashtra?</td>\n",
       "      <td>0</td>\n",
       "      <td>16.666667</td>\n",
       "      <td>40.824829</td>\n",
       "      <td>...</td>\n",
       "      <td>39</td>\n",
       "      <td>43</td>\n",
       "      <td>43</td>\n",
       "      <td>16.666667</td>\n",
       "      <td>0.080357</td>\n",
       "    </tr>\n",
       "    <tr>\n",
       "      <td>38</td>\n",
       "      <td>Should the Indian education system be revamped?</td>\n",
       "      <td>Do you think the Indian educational system should change?</td>\n",
       "      <td>1</td>\n",
       "      <td>16.666667</td>\n",
       "      <td>28.867513</td>\n",
       "      <td>...</td>\n",
       "      <td>72</td>\n",
       "      <td>61</td>\n",
       "      <td>61</td>\n",
       "      <td>16.666667</td>\n",
       "      <td>0.378472</td>\n",
       "    </tr>\n",
       "    <tr>\n",
       "      <td>39</td>\n",
       "      <td>How can I upload profile picture on Quora?</td>\n",
       "      <td>How do I change profile picture in Quora?</td>\n",
       "      <td>1</td>\n",
       "      <td>60.000000</td>\n",
       "      <td>75.000000</td>\n",
       "      <td>...</td>\n",
       "      <td>82</td>\n",
       "      <td>75</td>\n",
       "      <td>75</td>\n",
       "      <td>60.000000</td>\n",
       "      <td>0.851852</td>\n",
       "    </tr>\n",
       "    <tr>\n",
       "      <td>40</td>\n",
       "      <td>Can you start your own country?</td>\n",
       "      <td>How do I start your own country?</td>\n",
       "      <td>1</td>\n",
       "      <td>100.000000</td>\n",
       "      <td>100.000000</td>\n",
       "      <td>...</td>\n",
       "      <td>100</td>\n",
       "      <td>100</td>\n",
       "      <td>100</td>\n",
       "      <td>100.000000</td>\n",
       "      <td>1.000000</td>\n",
       "    </tr>\n",
       "    <tr>\n",
       "      <td>41</td>\n",
       "      <td>What would the world be like today if Hitler won WWII?</td>\n",
       "      <td>What would today be like if hitler had won WWII?</td>\n",
       "      <td>1</td>\n",
       "      <td>80.000000</td>\n",
       "      <td>89.442719</td>\n",
       "      <td>...</td>\n",
       "      <td>87</td>\n",
       "      <td>88</td>\n",
       "      <td>88</td>\n",
       "      <td>80.000000</td>\n",
       "      <td>0.851852</td>\n",
       "    </tr>\n",
       "    <tr>\n",
       "      <td>42</td>\n",
       "      <td>If we all evolved from monkeys, then how come monkeys still exist?</td>\n",
       "      <td>If we have evolved from apes then why there are apes around us?</td>\n",
       "      <td>1</td>\n",
       "      <td>20.000000</td>\n",
       "      <td>16.903085</td>\n",
       "      <td>...</td>\n",
       "      <td>67</td>\n",
       "      <td>38</td>\n",
       "      <td>38</td>\n",
       "      <td>20.000000</td>\n",
       "      <td>0.481111</td>\n",
       "    </tr>\n",
       "    <tr>\n",
       "      <td>43</td>\n",
       "      <td>How can the drive from Edmonton to Auckland be described, and how do these cities' attractions compare to those in Ottawa?</td>\n",
       "      <td>How can the drive from Edmonton to Auckland be described, and how do these cities' attractions compare to those in Hamilton?</td>\n",
       "      <td>1</td>\n",
       "      <td>77.777778</td>\n",
       "      <td>87.500000</td>\n",
       "      <td>...</td>\n",
       "      <td>92</td>\n",
       "      <td>91</td>\n",
       "      <td>91</td>\n",
       "      <td>75.000000</td>\n",
       "      <td>0.934524</td>\n",
       "    </tr>\n",
       "    <tr>\n",
       "      <td>44</td>\n",
       "      <td>Why MS Dhoni left captaincy of limited overs?</td>\n",
       "      <td>Why did MS Dhoni quit ODI and T20 captaincy?</td>\n",
       "      <td>1</td>\n",
       "      <td>37.500000</td>\n",
       "      <td>44.721360</td>\n",
       "      <td>...</td>\n",
       "      <td>73</td>\n",
       "      <td>62</td>\n",
       "      <td>62</td>\n",
       "      <td>37.500000</td>\n",
       "      <td>0.723033</td>\n",
       "    </tr>\n",
       "    <tr>\n",
       "      <td>45</td>\n",
       "      <td>What are the best resources and books to learn Angular JS?</td>\n",
       "      <td>What are some best books to learn Angular JS?</td>\n",
       "      <td>1</td>\n",
       "      <td>83.333333</td>\n",
       "      <td>89.442719</td>\n",
       "      <td>...</td>\n",
       "      <td>88</td>\n",
       "      <td>85</td>\n",
       "      <td>85</td>\n",
       "      <td>83.333333</td>\n",
       "      <td>0.925000</td>\n",
       "    </tr>\n",
       "    <tr>\n",
       "      <td>46</td>\n",
       "      <td>How I would have to offer my services as a independent contractor to a US company?</td>\n",
       "      <td>How does an \"independent contractor\" operate in sales?</td>\n",
       "      <td>0</td>\n",
       "      <td>28.571429</td>\n",
       "      <td>44.721360</td>\n",
       "      <td>...</td>\n",
       "      <td>80</td>\n",
       "      <td>73</td>\n",
       "      <td>73</td>\n",
       "      <td>28.571429</td>\n",
       "      <td>0.565774</td>\n",
       "    </tr>\n",
       "    <tr>\n",
       "      <td>47</td>\n",
       "      <td>How do I speak English fluently?</td>\n",
       "      <td>How do I speak English fluently in half a year?</td>\n",
       "      <td>1</td>\n",
       "      <td>60.000000</td>\n",
       "      <td>77.459667</td>\n",
       "      <td>...</td>\n",
       "      <td>100</td>\n",
       "      <td>81</td>\n",
       "      <td>81</td>\n",
       "      <td>60.000000</td>\n",
       "      <td>0.750000</td>\n",
       "    </tr>\n",
       "    <tr>\n",
       "      <td>48</td>\n",
       "      <td>Does it turn off a guy if I drink 2cans of 4lokos in his car before going into the club/bar?</td>\n",
       "      <td>Does it turn off a guy if I drink 2 cans of 4loko malt liquor beverage in his car before we even go into the bar?</td>\n",
       "      <td>1</td>\n",
       "      <td>46.153846</td>\n",
       "      <td>63.245553</td>\n",
       "      <td>...</td>\n",
       "      <td>65</td>\n",
       "      <td>65</td>\n",
       "      <td>65</td>\n",
       "      <td>60.000000</td>\n",
       "      <td>0.744151</td>\n",
       "    </tr>\n",
       "    <tr>\n",
       "      <td>49</td>\n",
       "      <td>Which is the best MacBook for developers?</td>\n",
       "      <td>Which is the best MacBook for a programmer?</td>\n",
       "      <td>0</td>\n",
       "      <td>50.000000</td>\n",
       "      <td>66.666667</td>\n",
       "      <td>...</td>\n",
       "      <td>68</td>\n",
       "      <td>53</td>\n",
       "      <td>53</td>\n",
       "      <td>50.000000</td>\n",
       "      <td>0.600000</td>\n",
       "    </tr>\n",
       "  </tbody>\n",
       "</table>\n",
       "<p>50 rows × 11 columns</p>\n",
       "</div>"
      ],
      "text/plain": [
       "                                                                                                                                                 question1  \\\n",
       "0   How can we integrate currently working Lucene search engine with the Solr search engine?                                                                 \n",
       "1   What are some great examples of a parallel circuit?                                                                                                      \n",
       "2   When a friend of mine asks me, what do I want to do, I'm clueless. How can I solve this?                                                                 \n",
       "3   What is the effect of Trump's presidency on US green card backlogs?                                                                                      \n",
       "4   What is the sweetest thing someone said to you?                                                                                                          \n",
       "5   Do males remember their first ejaculation?                                                                                                               \n",
       "6   Can I increase my IQ?                                                                                                                                    \n",
       "7   What is the size of an average cake at Costco?                                                                                                           \n",
       "8   What would you do if you were invisible for a day?                                                                                                       \n",
       "9   How can one be like Marilyn Monroe?                                                                                                                      \n",
       "10  What is more precious than time?                                                                                                                         \n",
       "11  What is the best gift that you ever recieved?                                                                                                            \n",
       "12  Why do most of the serials in India have the same background of family tensions and drama?                                                               \n",
       "13  What is definition of voltage drop?                                                                                                                      \n",
       "14  How do gun control advocates think their policies will manage to affect actual criminals and not just law abiding citizens?                              \n",
       "15  How long does a intensity power bank take to charge?                                                                                                     \n",
       "16  What is the best PHP framework for web development? Why?                                                                                                 \n",
       "17  Applying olive oil on face every night. What are the pros and cons?                                                                                      \n",
       "18  Does age really matter in a relationship?                                                                                                                \n",
       "19  How do I work out the most successful social media account from a list of the amount of followers gained over the weeks the accounts have been active?   \n",
       "20  What makes your house feel like a home?                                                                                                                  \n",
       "21  Where can I get best quality video DJ for party in Sydney?                                                                                               \n",
       "22  How can I start my startup?                                                                                                                              \n",
       "23  Is there a minimum possible wavelength of electromagnetic radiation? And is there any corresponding 'maximum possible energy' for the said radiation?    \n",
       "24  Which is the best area to stay in for a Delhi tour?                                                                                                      \n",
       "25  What is the best color of the Yamaha R15?                                                                                                                \n",
       "26  When will Detective Conan end?                                                                                                                           \n",
       "27  Where is King Henry VIII buried?                                                                                                                         \n",
       "28  Which laptop is best under 25000?                                                                                                                        \n",
       "29  What is the fastest way to fall asleep?                                                                                                                  \n",
       "30  How can I improve in competitive programming?                                                                                                            \n",
       "31  How people learn to hack?                                                                                                                                \n",
       "32  Why can't I reach vaginal orgasm?                                                                                                                        \n",
       "33  I am green card holder My minor children are living abroad I have applied for their green card I don't want to leave them alone and stay in USA?         \n",
       "34  Which is a good solar panel installation provider near Huntington Park, California CA?                                                                   \n",
       "35  What's the best way to find private equity firms that invest in oil and gas?                                                                             \n",
       "36  What is a hyperbolic function?                                                                                                                           \n",
       "37  How do I write street address in Nepal?                                                                                                                  \n",
       "38  Should the Indian education system be revamped?                                                                                                          \n",
       "39  How can I upload profile picture on Quora?                                                                                                               \n",
       "40  Can you start your own country?                                                                                                                          \n",
       "41  What would the world be like today if Hitler won WWII?                                                                                                   \n",
       "42  If we all evolved from monkeys, then how come monkeys still exist?                                                                                       \n",
       "43  How can the drive from Edmonton to Auckland be described, and how do these cities' attractions compare to those in Ottawa?                               \n",
       "44  Why MS Dhoni left captaincy of limited overs?                                                                                                            \n",
       "45  What are the best resources and books to learn Angular JS?                                                                                               \n",
       "46  How I would have to offer my services as a independent contractor to a US company?                                                                       \n",
       "47  How do I speak English fluently?                                                                                                                         \n",
       "48  Does it turn off a guy if I drink 2cans of 4lokos in his car before going into the club/bar?                                                             \n",
       "49  Which is the best MacBook for developers?                                                                                                                \n",
       "\n",
       "                                                                                                                                             question2  \\\n",
       "0   Has anyone used the Redlink Solr plugin for a semantic search?                                                                                       \n",
       "1   What are examples of a complex circuit?                                                                                                              \n",
       "2   How do you find your life's purpose?                                                                                                                 \n",
       "3   Can the trump presidency create any problem for recent green card holders?                                                                           \n",
       "4   What is the sweetest thing that someone has ever said to you?                                                                                        \n",
       "5   What does it feel like for a woman when a man ejaculates inside of her?                                                                              \n",
       "6   How do I increase IQ?                                                                                                                                \n",
       "7   What kind of beer does Costco sell?                                                                                                                  \n",
       "8   What would you do if you have invisible power for a day?                                                                                             \n",
       "9   Why is Marilyn Monroe so famous?                                                                                                                     \n",
       "10  How precious is time?                                                                                                                                \n",
       "11  What is the best physical gift you've ever received?                                                                                                 \n",
       "12  How popular are Pakistani drama serials in India?                                                                                                    \n",
       "13  Why does voltage drop? Physics?                                                                                                                      \n",
       "14  How do pro gun advocates feel when his/her loved one gets killed in a mass shooting? Does it change his/her minds about gun control and ownership?   \n",
       "15  How long does it take just to energise a 400kv transmission line during power system restoration?                                                    \n",
       "16  Which is the best PHP framework for a web developer?                                                                                                 \n",
       "17  Can you put olive oil on your face?                                                                                                                  \n",
       "18  Do horoscopes matter in a relationship?                                                                                                              \n",
       "19  How do I find which followers of any (i.e. not mine) Twitter account favorite and/or retweet the most?                                               \n",
       "20  What does buying your first house feel like?                                                                                                         \n",
       "21  Where can I get best quality DJ for Birthday party in Sydney?                                                                                        \n",
       "22  How can I start startup?                                                                                                                             \n",
       "23  What is the highest possible frequency/shortest possible wavelength known for electromagnetic radiation?                                             \n",
       "24  Which blog platform in vietnamese recommend?                                                                                                         \n",
       "25  What is special on the Yamaha R15?                                                                                                                   \n",
       "26  Where can I download Detective Conan's latest episodes with English softsubs?                                                                        \n",
       "27  How was King Henry VIII a dictator?                                                                                                                  \n",
       "28  Which is the best laptop model within 25000 rupees?                                                                                                  \n",
       "29  How do I fall asleep without masturbating?                                                                                                           \n",
       "30  How do I become efficient in competitive programming?                                                                                                \n",
       "31  How can I learn hacking?                                                                                                                             \n",
       "32  Why can't I reach orgasm?                                                                                                                            \n",
       "33  How does [math]KI[/math] replace [math]Cl[/math] in [math]PbCl_2[/math] in the reaction: [math]PbCl_2 + KI \\to PbI_2 + KCl[/math]?                   \n",
       "34  What is a good solar panel installation provider near Arlington, California CA?                                                                      \n",
       "35  How do private equity firms who invest in real estate finance their investments? How much do they put down?                                          \n",
       "36  What is hyperbolic function?                                                                                                                         \n",
       "37  Nepal: Was Nepal a Hindu Rashtra?                                                                                                                    \n",
       "38  Do you think the Indian educational system should change?                                                                                            \n",
       "39  How do I change profile picture in Quora?                                                                                                            \n",
       "40  How do I start your own country?                                                                                                                     \n",
       "41  What would today be like if hitler had won WWII?                                                                                                     \n",
       "42  If we have evolved from apes then why there are apes around us?                                                                                      \n",
       "43  How can the drive from Edmonton to Auckland be described, and how do these cities' attractions compare to those in Hamilton?                         \n",
       "44  Why did MS Dhoni quit ODI and T20 captaincy?                                                                                                         \n",
       "45  What are some best books to learn Angular JS?                                                                                                        \n",
       "46  How does an \"independent contractor\" operate in sales?                                                                                               \n",
       "47  How do I speak English fluently in half a year?                                                                                                      \n",
       "48  Does it turn off a guy if I drink 2 cans of 4loko malt liquor beverage in his car before we even go into the bar?                                    \n",
       "49  Which is the best MacBook for a programmer?                                                                                                          \n",
       "\n",
       "    is_duplicate     Jaccard      Cosine  ...  F Partial Ratio  \\\n",
       "0   0             18.181818   33.968311   ...  45                \n",
       "1   0             40.000000   57.735027   ...  78                \n",
       "2   0             0.000000    0.000000    ...  45                \n",
       "3   0             40.000000   57.735027   ...  51                \n",
       "4   1             100.000000  100.000000  ...  100               \n",
       "5   0             0.000000    0.000000    ...  61                \n",
       "6   1             100.000000  100.000000  ...  100               \n",
       "7   0             14.285714   25.000000   ...  49                \n",
       "8   1             66.666667   81.649658   ...  77                \n",
       "9   0             50.000000   66.666667   ...  74                \n",
       "10  0             100.000000  100.000000  ...  100               \n",
       "11  1             40.000000   57.735027   ...  74                \n",
       "12  0             37.500000   54.772256   ...  33                \n",
       "13  1             50.000000   66.666667   ...  77                \n",
       "14  0             13.636364   28.867513   ...  33                \n",
       "15  0             20.000000   33.806170   ...  52                \n",
       "16  1             66.666667   80.000000   ...  97                \n",
       "17  1             42.857143   65.465367   ...  100               \n",
       "18  0             40.000000   57.735027   ...  77                \n",
       "19  0             14.285714   37.210420   ...  64                \n",
       "20  0             50.000000   67.082039   ...  73                \n",
       "21  1             71.428571   83.333333   ...  74                \n",
       "22  1             100.000000  100.000000  ...  100               \n",
       "23  1             30.769231   62.279916   ...  56                \n",
       "24  0             0.000000    0.000000    ...  31                \n",
       "25  0             40.000000   40.824829   ...  69                \n",
       "26  0             25.000000   43.643578   ...  84                \n",
       "27  0             60.000000   75.000000   ...  77                \n",
       "28  1             50.000000   70.710678   ...  73                \n",
       "29  0             40.000000   57.735027   ...  48                \n",
       "30  1             50.000000   66.666667   ...  85                \n",
       "31  1             25.000000   40.824829   ...  87                \n",
       "32  1             66.666667   81.649658   ...  67                \n",
       "33  0             0.000000    0.000000    ...  14                \n",
       "34  0             72.727273   84.327404   ...  87                \n",
       "35  0             33.333333   50.000000   ...  70                \n",
       "36  1             100.000000  100.000000  ...  100               \n",
       "37  0             16.666667   40.824829   ...  39                \n",
       "38  1             16.666667   28.867513   ...  72                \n",
       "39  1             60.000000   75.000000   ...  82                \n",
       "40  1             100.000000  100.000000  ...  100               \n",
       "41  1             80.000000   89.442719   ...  87                \n",
       "42  1             20.000000   16.903085   ...  67                \n",
       "43  1             77.777778   87.500000   ...  92                \n",
       "44  1             37.500000   44.721360   ...  73                \n",
       "45  1             83.333333   89.442719   ...  88                \n",
       "46  0             28.571429   44.721360   ...  80                \n",
       "47  1             60.000000   77.459667   ...  100               \n",
       "48  1             46.153846   63.245553   ...  65                \n",
       "49  0             50.000000   66.666667   ...  68                \n",
       "\n",
       "    F Token Sort Ratio  F Token Set Ratio   S Jaccard  Word Net  \n",
       "0   47                  47                 18.181818   0.368056  \n",
       "1   57                  57                 40.000000   0.762500  \n",
       "2   19                  19                 0.000000    0.095455  \n",
       "3   61                  61                 40.000000   0.651996  \n",
       "4   100                 100                100.000000  1.000000  \n",
       "5   49                  49                 0.000000    0.134615  \n",
       "6   100                 100                100.000000  1.000000  \n",
       "7   53                  53                 14.285714   0.066239  \n",
       "8   81                  81                 66.666667   0.857143  \n",
       "9   75                  75                 50.000000   0.000000  \n",
       "10  100                 100                100.000000  1.000000  \n",
       "11  76                  76                 40.000000   0.406250  \n",
       "12  45                  45                 37.500000   0.530594  \n",
       "13  57                  57                 50.000000   0.693723  \n",
       "14  46                  46                 15.000000   0.320799  \n",
       "15  45                  45                 20.000000   0.474167  \n",
       "16  94                  94                 66.666667   0.777473  \n",
       "17  55                  55                 42.857143   0.756036  \n",
       "18  71                  71                 40.000000   0.397096  \n",
       "19  50                  50                 15.384615   0.408295  \n",
       "20  64                  64                 60.000000   0.619071  \n",
       "21  79                  79                 71.428571   0.855556  \n",
       "22  100                 100                100.000000  1.000000  \n",
       "23  68                  68                 30.769231   0.620651  \n",
       "24  24                  24                 0.000000    0.069907  \n",
       "25  51                  51                 40.000000   0.431818  \n",
       "26  51                  51                 25.000000   0.166667  \n",
       "27  74                  74                 60.000000   0.692929  \n",
       "28  65                  65                 50.000000   0.666667  \n",
       "29  68                  68                 40.000000   0.685185  \n",
       "30  81                  81                 50.000000   0.708333  \n",
       "31  67                  67                 25.000000   0.000000  \n",
       "32  75                  75                 66.666667   0.833333  \n",
       "33  10                  10                 0.000000    0.095823  \n",
       "34  81                  81                 66.666667   0.828954  \n",
       "35  60                  60                 33.333333   0.540818  \n",
       "36  100                 100                100.000000  1.000000  \n",
       "37  43                  43                 16.666667   0.080357  \n",
       "38  61                  61                 16.666667   0.378472  \n",
       "39  75                  75                 60.000000   0.851852  \n",
       "40  100                 100                100.000000  1.000000  \n",
       "41  88                  88                 80.000000   0.851852  \n",
       "42  38                  38                 20.000000   0.481111  \n",
       "43  91                  91                 75.000000   0.934524  \n",
       "44  62                  62                 37.500000   0.723033  \n",
       "45  85                  85                 83.333333   0.925000  \n",
       "46  73                  73                 28.571429   0.565774  \n",
       "47  81                  81                 60.000000   0.750000  \n",
       "48  65                  65                 60.000000   0.744151  \n",
       "49  53                  53                 50.000000   0.600000  \n",
       "\n",
       "[50 rows x 11 columns]"
      ]
     },
     "execution_count": 26,
     "metadata": {},
     "output_type": "execute_result"
    }
   ],
   "source": [
    "d"
   ]
  },
  {
   "cell_type": "code",
   "execution_count": 27,
   "metadata": {
    "ExecuteTime": {
     "end_time": "2019-11-24T16:38:25.721223Z",
     "start_time": "2019-11-24T16:38:25.564652Z"
    }
   },
   "outputs": [],
   "source": [
    "def report(col):\n",
    "    print(confusion_matrix(d['is_duplicate'], list(map(lambda x :round(x/100), d[col]))))\n",
    "    print(classification_report(d['is_duplicate'], list(map(lambda x :round(x/100), d[col]))))"
   ]
  },
  {
   "cell_type": "code",
   "execution_count": 28,
   "metadata": {
    "ExecuteTime": {
     "end_time": "2019-11-24T16:38:26.020033Z",
     "start_time": "2019-11-24T16:38:25.723198Z"
    }
   },
   "outputs": [
    {
     "name": "stdout",
     "output_type": "stream",
     "text": [
      "Jaccard\n",
      "[[22  3]\n",
      " [11 14]]\n",
      "              precision    recall  f1-score   support\n",
      "\n",
      "           0       0.67      0.88      0.76        25\n",
      "           1       0.82      0.56      0.67        25\n",
      "\n",
      "   micro avg       0.72      0.72      0.72        50\n",
      "   macro avg       0.75      0.72      0.71        50\n",
      "weighted avg       0.75      0.72      0.71        50\n",
      "\n",
      "Cosine\n",
      "[[14 11]\n",
      " [ 4 21]]\n",
      "              precision    recall  f1-score   support\n",
      "\n",
      "           0       0.78      0.56      0.65        25\n",
      "           1       0.66      0.84      0.74        25\n",
      "\n",
      "   micro avg       0.70      0.70      0.70        50\n",
      "   macro avg       0.72      0.70      0.69        50\n",
      "weighted avg       0.72      0.70      0.69        50\n",
      "\n",
      "F Ratio\n",
      "[[13 12]\n",
      " [ 3 22]]\n",
      "              precision    recall  f1-score   support\n",
      "\n",
      "           0       0.81      0.52      0.63        25\n",
      "           1       0.65      0.88      0.75        25\n",
      "\n",
      "   micro avg       0.70      0.70      0.70        50\n",
      "   macro avg       0.73      0.70      0.69        50\n",
      "weighted avg       0.73      0.70      0.69        50\n",
      "\n",
      "F Partial Ratio\n",
      "[[ 9 16]\n",
      " [ 0 25]]\n",
      "              precision    recall  f1-score   support\n",
      "\n",
      "           0       1.00      0.36      0.53        25\n",
      "           1       0.61      1.00      0.76        25\n",
      "\n",
      "   micro avg       0.68      0.68      0.68        50\n",
      "   macro avg       0.80      0.68      0.64        50\n",
      "weighted avg       0.80      0.68      0.64        50\n",
      "\n",
      "F Token Sort Ratio\n",
      "[[10 15]\n",
      " [ 1 24]]\n",
      "              precision    recall  f1-score   support\n",
      "\n",
      "           0       0.91      0.40      0.56        25\n",
      "           1       0.62      0.96      0.75        25\n",
      "\n",
      "   micro avg       0.68      0.68      0.68        50\n",
      "   macro avg       0.76      0.68      0.65        50\n",
      "weighted avg       0.76      0.68      0.65        50\n",
      "\n",
      "F Token Set Ratio\n",
      "[[10 15]\n",
      " [ 1 24]]\n",
      "              precision    recall  f1-score   support\n",
      "\n",
      "           0       0.91      0.40      0.56        25\n",
      "           1       0.62      0.96      0.75        25\n",
      "\n",
      "   micro avg       0.68      0.68      0.68        50\n",
      "   macro avg       0.76      0.68      0.65        50\n",
      "weighted avg       0.76      0.68      0.65        50\n",
      "\n",
      "S Jaccard\n",
      "[[21  4]\n",
      " [10 15]]\n",
      "              precision    recall  f1-score   support\n",
      "\n",
      "           0       0.68      0.84      0.75        25\n",
      "           1       0.79      0.60      0.68        25\n",
      "\n",
      "   micro avg       0.72      0.72      0.72        50\n",
      "   macro avg       0.73      0.72      0.72        50\n",
      "weighted avg       0.73      0.72      0.72        50\n",
      "\n",
      "Word Net\n",
      "[[25  0]\n",
      " [25  0]]\n",
      "              precision    recall  f1-score   support\n",
      "\n",
      "           0       0.50      1.00      0.67        25\n",
      "           1       0.00      0.00      0.00        25\n",
      "\n",
      "   micro avg       0.50      0.50      0.50        50\n",
      "   macro avg       0.25      0.50      0.33        50\n",
      "weighted avg       0.25      0.50      0.33        50\n",
      "\n"
     ]
    },
    {
     "name": "stderr",
     "output_type": "stream",
     "text": [
      "D:\\Users\\Ritvik\\Anaconda3\\envs\\datascience\\lib\\site-packages\\sklearn\\metrics\\classification.py:1143: UndefinedMetricWarning: Precision and F-score are ill-defined and being set to 0.0 in labels with no predicted samples.\n",
      "  'precision', 'predicted', average, warn_for)\n"
     ]
    }
   ],
   "source": [
    "algos = d.columns.drop(['question1', 'question2', 'is_duplicate'])\n",
    "for a in algos:\n",
    "    print(a)\n",
    "    report(a)"
   ]
  },
  {
   "cell_type": "code",
   "execution_count": 29,
   "metadata": {
    "ExecuteTime": {
     "end_time": "2019-11-24T16:38:26.384177Z",
     "start_time": "2019-11-24T16:38:26.027556Z"
    }
   },
   "outputs": [],
   "source": [
    "import matplotlib.pyplot as plt\n",
    "import seaborn as sns"
   ]
  },
  {
   "cell_type": "code",
   "execution_count": 30,
   "metadata": {
    "ExecuteTime": {
     "end_time": "2019-11-24T16:38:27.785335Z",
     "start_time": "2019-11-24T16:38:26.388172Z"
    }
   },
   "outputs": [
    {
     "data": {
      "text/plain": [
       "<matplotlib.axes._subplots.AxesSubplot at 0x1e16fc0cc18>"
      ]
     },
     "execution_count": 30,
     "metadata": {},
     "output_type": "execute_result"
    },
    {
     "data": {
      "image/png": "[encoded data removed]",
      "text/plain": [
       "<Figure size 720x432 with 2 Axes>"
      ]
     },
     "metadata": {
      "needs_background": "light"
     },
     "output_type": "display_data"
    }
   ],
   "source": [
    "fig, ax = plt.subplots(figsize=(10,6))\n",
    "sns.heatmap(d.drop(['question1', 'question2'], axis=1).corr(), ax=ax, annot=True, cmap='RdBu')"
   ]
  },
  {
   "cell_type": "code",
   "execution_count": null,
   "metadata": {},
   "outputs": [],
   "source": []
  }
 ],
 "metadata": {
  "kernelspec": {
   "display_name": "Python 3",
   "language": "python",
   "name": "python3"
  },
  "language_info": {
   "codemirror_mode": {
    "name": "ipython",
    "version": 3
   },
   "file_extension": ".py",
   "mimetype": "text/x-python",
   "name": "python",
   "nbconvert_exporter": "python",
   "pygments_lexer": "ipython3",
   "version": "3.7.3"
  },
  "toc": {
   "base_numbering": 1,
   "nav_menu": {},
   "number_sections": true,
   "sideBar": true,
   "skip_h1_title": false,
   "title_cell": "Table of Contents",
   "title_sidebar": "Contents",
   "toc_cell": false,
   "toc_position": {},
   "toc_section_display": true,
   "toc_window_display": false
  },
  "varInspector": {
   "cols": {
    "lenName": 16,
    "lenType": 16,
    "lenVar": 40
   },
   "kernels_config": {
    "python": {
     "delete_cmd_postfix": "",
     "delete_cmd_prefix": "del ",
     "library": "var_list.py",
     "varRefreshCmd": "print(var_dic_list())"
    },
    "r": {
     "delete_cmd_postfix": ") ",
     "delete_cmd_prefix": "rm(",
     "library": "var_list.r",
     "varRefreshCmd": "cat(var_dic_list()) "
    }
   },
   "types_to_exclude": [
    "module",
    "function",
    "builtin_function_or_method",
    "instance",
    "_Feature"
   ],
   "window_display": false
  }
 },
 "nbformat": 4,
 "nbformat_minor": 2
}
